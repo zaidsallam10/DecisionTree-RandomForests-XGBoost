{
  "nbformat": 4,
  "nbformat_minor": 0,
  "metadata": {
    "colab": {
      "name": "Breast Cancer DecisionTree VS RandomForests VS XGBoost.ipynb",
      "provenance": [],
      "collapsed_sections": [],
      "authorship_tag": "ABX9TyPf5uNlHqFtilC5YqAjSsCr",
      "include_colab_link": true
    },
    "kernelspec": {
      "name": "python3",
      "display_name": "Python 3"
    }
  },
  "cells": [
    {
      "cell_type": "markdown",
      "metadata": {
        "id": "view-in-github",
        "colab_type": "text"
      },
      "source": [
        "<a href=\"https://colab.research.google.com/github/zaidsallam10/DecisionTree-RandomForests-XGBoost/blob/master/Breast_Cancer_DecisionTree_VS_RandomForests_VS_XGBoost.ipynb\" target=\"_parent\"><img src=\"https://colab.research.google.com/assets/colab-badge.svg\" alt=\"Open In Colab\"/></a>"
      ]
    },
    {
      "cell_type": "code",
      "metadata": {
        "id": "eDc3Eim0ZjuT",
        "colab_type": "code",
        "colab": {
          "base_uri": "https://localhost:8080/",
          "height": 193
        },
        "outputId": "d848ebcb-23b5-46d1-d886-3fc6134fa51f"
      },
      "source": [
        "from sklearn.datasets import load_breast_cancer\n",
        "import pandas as pd\n",
        "import numpy as np\n",
        "\n",
        "data = load_breast_cancer()\n",
        "X=data.data\n",
        "y=data.target\n",
        "print(data.feature_names)\n",
        "print(data.target_names)\n"
      ],
      "execution_count": 82,
      "outputs": [
        {
          "output_type": "stream",
          "text": [
            "['mean radius' 'mean texture' 'mean perimeter' 'mean area'\n",
            " 'mean smoothness' 'mean compactness' 'mean concavity'\n",
            " 'mean concave points' 'mean symmetry' 'mean fractal dimension'\n",
            " 'radius error' 'texture error' 'perimeter error' 'area error'\n",
            " 'smoothness error' 'compactness error' 'concavity error'\n",
            " 'concave points error' 'symmetry error' 'fractal dimension error'\n",
            " 'worst radius' 'worst texture' 'worst perimeter' 'worst area'\n",
            " 'worst smoothness' 'worst compactness' 'worst concavity'\n",
            " 'worst concave points' 'worst symmetry' 'worst fractal dimension']\n",
            "['malignant' 'benign']\n"
          ],
          "name": "stdout"
        }
      ]
    },
    {
      "cell_type": "code",
      "metadata": {
        "id": "GT8RZNBEbfP3",
        "colab_type": "code",
        "colab": {
          "base_uri": "https://localhost:8080/",
          "height": 158
        },
        "outputId": "62291abb-08a4-4d14-eebd-17c7013396ab"
      },
      "source": [
        "from sklearn import tree\n",
        "from sklearn.model_selection import cross_val_score\n",
        "from sklearn.model_selection import train_test_split\n",
        "\n",
        "from sklearn.feature_selection import SelectKBest\n",
        "from sklearn.feature_selection import chi2\n",
        "\n",
        "# X_new = SelectKBest(chi2, k=2).fit_transform(X, y)\n",
        "# print (X_new)\n",
        "\n",
        "X_train, X_test, y_train, y_test = train_test_split(X, y, train_size=0.65,test_size=0.35)\n",
        "clf = tree.DecisionTreeClassifier()\n",
        "\n",
        "clf = clf.fit(X_train, y_train)\n",
        "print('classes_= ',clf.classes_)\n",
        "print('n_features_= ',clf.n_features_)\n",
        "print('score= ',clf.score(X_test,y_test))\n",
        "print('feature_importances_= ',clf.feature_importances_)\n",
        "\n"
      ],
      "execution_count": 83,
      "outputs": [
        {
          "output_type": "stream",
          "text": [
            "classes_=  [0 1]\n",
            "n_features_=  30\n",
            "score=  0.905\n",
            "feature_importances_=  [0.         0.         0.         0.         0.         0.\n",
            " 0.         0.05253894 0.         0.         0.         0.01139447\n",
            " 0.         0.01151893 0.         0.00584046 0.         0.02356796\n",
            " 0.         0.         0.         0.0361565  0.75314081 0.00973409\n",
            " 0.02212294 0.         0.03308953 0.04089537 0.         0.        ]\n"
          ],
          "name": "stdout"
        }
      ]
    },
    {
      "cell_type": "code",
      "metadata": {
        "id": "RMKkMRL6ebew",
        "colab_type": "code",
        "colab": {
          "base_uri": "https://localhost:8080/",
          "height": 211
        },
        "outputId": "3b282809-2da2-4f05-a76f-c494ac2daf6f"
      },
      "source": [
        "from sklearn.ensemble import RandomForestClassifier\n",
        "from sklearn.datasets import make_classification\n",
        "\n",
        "clf = RandomForestClassifier(max_depth=2, random_state=0)\n",
        "clf.fit(X_train, y_train)\n",
        "\n",
        "print('classes_= ',clf.classes_)\n",
        "print('n_features_= ',clf.n_features_)\n",
        "print('score= ',clf.score(X_test,y_test))\n",
        "print('feature_importances_= ',clf.feature_importances_)\n",
        "\n"
      ],
      "execution_count": 85,
      "outputs": [
        {
          "output_type": "stream",
          "text": [
            "classes_=  [0 1]\n",
            "n_features_=  30\n",
            "score=  0.92\n",
            "feature_importances_=  [3.67074199e-02 2.01951424e-03 9.92196084e-02 3.91587350e-02\n",
            " 3.51785094e-04 1.72924148e-03 7.60571466e-02 1.03064228e-01\n",
            " 0.00000000e+00 1.40227731e-04 2.21261897e-02 3.76235927e-04\n",
            " 1.25523940e-02 3.93853373e-02 4.73527124e-04 0.00000000e+00\n",
            " 1.39385170e-03 0.00000000e+00 0.00000000e+00 3.42215500e-04\n",
            " 1.07993185e-01 8.53056936e-04 2.21219737e-01 6.58867841e-02\n",
            " 5.07733661e-03 7.51428786e-03 1.69995964e-02 1.31195325e-01\n",
            " 2.04302297e-03 6.12001006e-03]\n"
          ],
          "name": "stdout"
        }
      ]
    },
    {
      "cell_type": "code",
      "metadata": {
        "id": "86tYugRll60T",
        "colab_type": "code",
        "colab": {
          "base_uri": "https://localhost:8080/",
          "height": 176
        },
        "outputId": "9da7125d-1703-4832-8f3f-5e99af0baab1"
      },
      "source": [
        "import xgboost as xgb\n",
        "import numpy as np\n",
        "from sklearn.metrics import precision_score, recall_score, accuracy_score\n",
        "\n",
        "\n",
        "D_train = xgb.DMatrix(X_train, label=y_train)\n",
        "D_test = xgb.DMatrix(X_test, label=y_test)\n",
        "\n",
        "\n",
        "\n",
        "param = {\n",
        "    'eta': 0.3, \n",
        "    'max_depth': 3,  \n",
        "    'objective': 'multi:softprob',  \n",
        "    'num_class': 2} \n",
        "\n",
        "steps = 20  # The number of training iterations\n",
        "\n",
        "x_boost_model= xgb.train(param, D_train, steps)\n",
        "\n",
        "preds = x_boost_model.predict(D_test)\n",
        "best_preds = np.asarray([np.argmax(line) for line in preds])\n",
        "print(best_preds)\n",
        "print(\"Precision = {}\".format(precision_score(y_test, best_preds, average='macro')))\n",
        "print(\"Recall = {}\".format(recall_score(y_test, best_preds, average='macro')))\n",
        "print(\"Accuracy = {}\".format(accuracy_score(y_test, best_preds)))\n"
      ],
      "execution_count": 86,
      "outputs": [
        {
          "output_type": "stream",
          "text": [
            "[1 1 1 1 0 1 1 0 1 1 1 1 1 1 0 1 1 1 0 1 1 0 1 1 0 1 0 1 1 1 1 0 0 0 0 1 1\n",
            " 0 1 1 1 0 1 0 1 1 0 0 1 1 1 1 0 1 0 0 0 1 1 0 1 1 0 0 0 1 1 1 1 1 0 0 0 0\n",
            " 0 1 1 1 1 1 1 1 1 0 0 0 1 0 0 0 0 1 0 1 0 0 1 0 1 1 1 1 0 1 1 0 1 1 1 0 1\n",
            " 0 1 0 1 1 0 1 0 0 0 1 1 0 1 1 1 1 0 0 0 1 1 1 0 1 0 1 1 1 1 1 1 1 0 0 1 0\n",
            " 1 1 0 1 1 1 0 0 0 0 1 1 1 1 1 0 0 0 1 1 1 0 0 0 0 1 1 1 0 1 0 1 0 0 1 1 0\n",
            " 0 1 1 1 1 1 0 0 0 1 0 1 0 1 1]\n",
            "Precision = 0.9338105612615417\n",
            "Recall = 0.941505648822722\n",
            "Accuracy = 0.94\n"
          ],
          "name": "stdout"
        }
      ]
    }
  ]
}